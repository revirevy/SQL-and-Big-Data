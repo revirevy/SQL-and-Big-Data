{
 "cells": [
  {
   "cell_type": "markdown",
   "metadata": {},
   "source": [
    "# Sqoop\n",
    "`Transfer data between RDMS and Hadoop`\n",
    "\n",
    "Sqoop is a command line utility mainly used for ingesting data from RDBMS, then importing as comma delimited text file (default)\n",
    "\n",
    "Performs tasks using mapreduce jobs (typically 4 parallel when importing, splits the jobs up by primary key).  \n",
    "When importing, creates a new directory in HDFS.  \n",
    "\n",
    "We can import partial tables by specifying which `--column`s we want, or by adding a filter that the rows will need to meet with `--where`.  \n",
    "Incremental imports with `--incremental`. Will need to include a `--check-column` and `--last-value` to specify where to increment\n",
    "\n",
    "**Techniques**  \n",
    "`import`  \n",
    "`import-all-tables`  \n",
    "`export`  \n",
    "`list-tables`\n",
    "\n",
    "---\n",
    "\n",
    "**Example - import order_details**  \n",
    "**Step 1 - see our main directories in the local host**  \n",
    "`hadoop fs -ls /` \n",
    "\n",
    "**Step 2 - Import tables into dualcore folder**  \n",
    "`sqoop import \\  \n",
    "--connect jdbc:mysql://localhost/dualcore \\  \n",
    "--username training --password training \\  \n",
    "--fields-terminated-by '\\t' \\  \n",
    "--warehouse-dir /dualcore \\  \n",
    "--table order_details \\  \n",
    "--split-by=order_id`  # if there isnt one single primary key"
   ]
  },
  {
   "cell_type": "markdown",
   "metadata": {},
   "source": [
    "---\n",
    "\n",
    "# Lab 3\n",
    "\n",
    "https://pages.github.umn.edu/deliu/bigdata19/02-Hadoop/lab03-scoop.html  \n",
    "https://pages.github.umn.edu/deliu/bigdata19/02-Hadoop/lab03-scoop-solution.html"
   ]
  },
  {
   "cell_type": "markdown",
   "metadata": {},
   "source": [
    "---\n",
    "\n",
    "(Using git)  \n",
    "Log in to mysql and select dualcore db  \n",
    "`mysql -uroot -pcloudera dualcore`\n",
    "\n",
    "(inside of mysql, still using git)  \n",
    "Show tables in a database  \n",
    "`SHOW TABLES;`\n",
    "\n",
    "### Mysql database --> local\n",
    "\n",
    "Import table into dualcore  \n",
    "`sqoop import \\\n",
    "--connect jdbc:mysql://localhost/dualcore \\\n",
    "--username root --password cloudera \\\n",
    "--fields-terminated-by '\\t' \\\n",
    "--warehouse-dir /dualcore \\\n",
    "--table employees`\n",
    "\n",
    "### Local --> hdfs\n",
    "\n",
    "From dualcore to hdfs  \n",
    "`sqoop import \\\n",
    "--connect jdbc:mysql://localhost/dualcore \\\n",
    "--username root --password cloudera \\\n",
    "--fields-terminated-by '\\t' \\\n",
    "--warehouse-dir /dualcore \\\n",
    "--table order_details \\\n",
    "--split-by=order_id`"
   ]
  },
  {
   "cell_type": "code",
   "execution_count": null,
   "metadata": {},
   "outputs": [],
   "source": []
  }
 ],
 "metadata": {
  "kernelspec": {
   "display_name": "Python 3",
   "language": "python",
   "name": "python3"
  },
  "language_info": {
   "codemirror_mode": {
    "name": "ipython",
    "version": 3
   },
   "file_extension": ".py",
   "mimetype": "text/x-python",
   "name": "python",
   "nbconvert_exporter": "python",
   "pygments_lexer": "ipython3",
   "version": "3.7.0"
  }
 },
 "nbformat": 4,
 "nbformat_minor": 2
}
