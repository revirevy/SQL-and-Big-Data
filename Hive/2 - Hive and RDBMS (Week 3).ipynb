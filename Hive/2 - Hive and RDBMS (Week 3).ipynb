{
 "cells": [
  {
   "cell_type": "markdown",
   "metadata": {},
   "source": [
    "# Apache Hive\n",
    "`Used as a database that a few people can query - not for making small incremental updates`\n",
    "\n",
    "\n",
    "Overview  \n",
    "HiveQL  \n",
    "Lab 6 Basic Hive Queries  \n",
    "Lab 7 - Applied Hive Queries  \n",
    "Lab 7x - Complex Fields\n",
    "\n",
    "\n",
    "---\n",
    "\n",
    "# Overview\n",
    "\n",
    "**Data warehouse** for reading, writing, managing large datasets  \n",
    "Developed on top of MapReduce (also supports other engines now)  \n",
    "Uses SQL syntax (`HiveQL`) - also works well with Tableau and PowerBI  \n",
    "\n",
    "The data for Hive and the computations both run on the Hadoop cluster.  \n",
    "Hive itself runs on the `client machine` - translates code into an execution plan for MapReduce (batch processing platform)\n",
    "\n",
    "---\n",
    "\n",
    "\n",
    "### Storage\n",
    "\n",
    "**Managed tables** `Default` = fully under Hive, not shared with other tools  \n",
    "**External tables** = shared between Hive and other apps\n",
    "\n",
    "1. Metadata - Specifies structure, location of data  \n",
    "-- Metadata is then stored in an RDBMS metastore (Derby or mySQL), not HDFS  \n",
    "\n",
    "2. Data - typically in an HDFS directory  \n",
    "-- eg `/user/../table_name`\n",
    "\n",
    "---\n",
    "\n",
    "### Pros and Cons\n",
    "\n",
    "**Benefits of Hive**  \n",
    "1. More efficient than writing directly in MapReduce (much less code)  \n",
    "2. Easy for normal people to use (uses SQL)  \n",
    "3. Interacts with many tools (eg Tableau)\n",
    "\n",
    "**Disadvantage of Hive**  \n",
    "1. Not a 'real time' interactive platform  \n",
    "\n",
    "\n",
    "\n",
    "\n",
    "<img src=https://i.imgur.com/ikZOUVJ.png width=\"500\" height=\"440\" align=\"left\">\n"
   ]
  },
  {
   "cell_type": "markdown",
   "metadata": {},
   "source": [
    "### Hive Use Cases (sentiment analysis, web logs)\n",
    "\n",
    "1. Data prep  \n",
    "2. ETL  \n",
    "3. Data mining (prepping)  \n",
    "4. Ad optimization\n",
    "\n",
    "---\n",
    "\n",
    "### Using Hive (with Beeline)\n",
    "\n",
    "\n",
    "`"
   ]
  },
  {
   "cell_type": "markdown",
   "metadata": {},
   "source": [
    "---\n",
    "\n",
    "# HiveQL\n",
    "\n",
    "### Overview\n",
    "\n",
    "Subset of SQL-92 but has extensions  \n",
    "Can only use joins using `=`, cannot use `<>`\n",
    "\n",
    "**Managed tables** - aka fully under Hive control (eg `user/hive/customers`)  \n",
    "Database --> table (directory) --> multiple files"
   ]
  },
  {
   "cell_type": "markdown",
   "metadata": {},
   "source": [
    "---\n",
    "\n",
    "### Syntax \n",
    "\n",
    "(Using Hue, then Query Editor -> Hive)  \n",
    "`show databases;`  \n",
    "`use dualcore;`  \n",
    "`show tables;`  \n",
    "`describe customers;`\n",
    "\n",
    "##### Joins\n",
    "\n",
    "For joins, list largest table last  \n",
    "Need to include the `OUTER` term\n",
    "\n",
    "`\n",
    "SELECT tab1.col1, tab2.col2\n",
    "FROM tab1\n",
    "JOIN tab2 ON (tab1.match = tab2.match);`"
   ]
  },
  {
   "cell_type": "markdown",
   "metadata": {},
   "source": [
    "---\n",
    "\n",
    "### Data Types\n",
    "\n",
    "##### Integer\n",
    "<img src=https://i.imgur.com/rEKC16C.png width=\"400\" height=\"340\" align=\"left\">"
   ]
  },
  {
   "cell_type": "markdown",
   "metadata": {},
   "source": [
    "##### Float\n",
    "\n",
    "<img src=https://i.imgur.com/6H4bniU.png width=\"400\" height=\"340\" align=\"left\">"
   ]
  },
  {
   "cell_type": "markdown",
   "metadata": {},
   "source": [
    "##### Simple Scalars\n",
    "<img src=https://i.imgur.com/CN2ODRK.png width=\"400\" height=\"340\" align=\"left\">"
   ]
  },
  {
   "cell_type": "markdown",
   "metadata": {},
   "source": [
    "##### Complex - each field can hold multiple values - offers faster access, eliminate need for big joins\n",
    "<img src=https://i.imgur.com/SaJ6cUd.png width=\"400\" height=\"340\" align=\"left\">"
   ]
  },
  {
   "cell_type": "markdown",
   "metadata": {},
   "source": [
    "**List of all** - tinyint, smallint, int, bigint, float, double, decimal, string, char, varchar, boolean, timestamp, binary, array, map, struct"
   ]
  },
  {
   "cell_type": "markdown",
   "metadata": {},
   "source": []
  },
  {
   "cell_type": "code",
   "execution_count": null,
   "metadata": {},
   "outputs": [],
   "source": []
  },
  {
   "cell_type": "code",
   "execution_count": null,
   "metadata": {},
   "outputs": [],
   "source": []
  },
  {
   "cell_type": "markdown",
   "metadata": {},
   "source": [
    "# Pre-lab\n",
    "\n",
    "cd C:\\vagrant  \n",
    "vagrant up  \n",
    "vagrant ssh\n",
    "\n",
    "`beeline -u jdbc:hive2://` to start beeline  \n",
    "\n",
    "Alternatively: Go to `http://localhost:8888` with username and password = cloudera to get to Hue\n",
    "\n",
    "---\n",
    "\n",
    "# Lab 6  Basic Hive Queries\n",
    "https://pages.github.umn.edu/deliu/bigdata19/03-Hive1/lab06-intro.html  \n",
    "https://pages.github.umn.edu/deliu/bigdata19/03-Hive1/lab06-intro-solution.html\n",
    "\n",
    "\n",
    "###  Running a Query From Hive Shell (with Beeline)\n",
    "Note that normally we will use Hue, not Beeline\n",
    "\n",
    "`show databases;`  \n",
    "`use dualcore;` set current database  \n",
    "`show tables;`  \n",
    "`describe customers;` \n",
    "\n",
    "Task: look for the winner  \n",
    "`select * from customers where fname like \"Bridg%\" and city = \"Kansas City\";`  \n",
    "Note: Case sensitive - `fname like \"Bridg%\"`  \n",
    "Note: Case insensitive - `lcase(fname) like \"bridg%\"`  \n",
    "\n",
    "`ctrl+c` to exit Beeline"
   ]
  },
  {
   "cell_type": "markdown",
   "metadata": {},
   "source": [
    "---\n",
    "\n",
    "### Using Hue (UI for HDFS)\n",
    "\n",
    "`File Browser` at the top right to see all the folders we have  \n",
    "`Job Browser` at the top right to see what we have done in the past\n",
    "\n",
    "`Query Editor` --> `Hive` to get to where we run commands\n",
    "\n",
    "`use dualcore;`  \n",
    "\n",
    "#Which three products are the most expensive?  \n",
    "`SELECT price, brand, name FROM dualcore.PRODUCTS ORDER BY\n",
    "price DESC LIMIT 3'` \n",
    "\n",
    "count the number of records in the **customers** table  \n",
    "`SELECT COUNT(DISTINCT cust_id) AS total FROM customers;`  \n",
    "\n",
    "Which state has the most customers?  \n",
    "`select state, count(*) as cnt from customers group by state order by cnt desc limit 10`\n",
    "\n",
    "---\n"
   ]
  },
  {
   "cell_type": "markdown",
   "metadata": {},
   "source": [
    "# Lab 7  - Applied Hive Queries\n",
    "https://pages.github.umn.edu/deliu/bigdata19/03-Hive1/lab07-hiveql.html  \n",
    "https://pages.github.umn.edu/deliu/bigdata19/03-Hive1/lab07-hiveql-solution.html"
   ]
  },
  {
   "cell_type": "markdown",
   "metadata": {},
   "source": [
    "Top 3 selling products  \n",
    "`SELECT brand, name, COUNT(p.prod_id) AS sold\n",
    "FROM products p\n",
    "JOIN order_details d\n",
    "ON (p.prod_id = d.prod_id)\n",
    "GROUP BY brand, name, p.prod_id\n",
    "ORDER BY sold DESC\n",
    "LIMIT 3;`\n",
    "  \n",
    "Gross profit in May 2013  \n",
    "`SELECT PRINTF(\"`$`%.2f\", SUM(price - cost) / 100) AS profit\n",
    "FROM products p\n",
    "JOIN order_details d\n",
    "ON (d.prod_id = p.prod_id)\n",
    "JOIN orders o\n",
    "ON (d.order_id = o.order_id)\n",
    "WHERE YEAR(order_date) = 2013\n",
    "  AND MONTH(order_date) = 05;`\n",
    "  \n",
    "Per month sales before and after campaign  \n",
    "`SELECT substr(order_date,1,7) as year_date, \n",
    "count(*) as orders FROM orders \n",
    "where substr(order_date,1,7) between '2013-02' and '2013-05'\n",
    "group by substr(order_date,1,7);`\n",
    "\n",
    "Ad sales by month  \n",
    "`select recent_orders.month, count(*) as num_orders \n",
    "from (SELECT order_id, substr(order_date,1,7) as month FROM orders \n",
    "where substr(order_date,1,7) between '2013-02' and '2013-05') \n",
    "recent_orders join (select order_id from order_details \n",
    "where prod_id = 1274348) tablets on recent_orders.order_id=tablets.order_id\n",
    "group by recent_orders.month;`"
   ]
  },
  {
   "cell_type": "markdown",
   "metadata": {},
   "source": [
    "# Lab 7x - Complex Fields\n",
    "\n",
    "https://pages.github.umn.edu/deliu/bigdata19/03-Hive1/lab07x-complexfields.html  \n",
    "https://pages.github.umn.edu/deliu/bigdata19/03-Hive1/lab07x-complexfields-solution.html\n",
    "\n",
    "`SHOW CREATE TABLE customers;` to show the structure of the table\n",
    "\n",
    "Accessing a struct within a struct  \n",
    "`SELECT name\n",
    "FROM customers\n",
    "WHERE email_preferences.categories.promos=TRUE;`\n",
    "\n",
    "Accessing mapping  \n",
    "`SELECT name,addresses['billing']\n",
    "FROM customers where \n",
    "addresses['billing'].state='CA';`\n",
    "\n",
    "Accessing arrays  \n",
    "`SELECT name, size(orders) as num_orders, \n",
    "orders[0].order_date from customers \n",
    "where size(orders)>1;`"
   ]
  },
  {
   "cell_type": "code",
   "execution_count": null,
   "metadata": {},
   "outputs": [],
   "source": []
  }
 ],
 "metadata": {
  "kernelspec": {
   "display_name": "Python 3",
   "language": "python",
   "name": "python3"
  },
  "language_info": {
   "codemirror_mode": {
    "name": "ipython",
    "version": 3
   },
   "file_extension": ".py",
   "mimetype": "text/x-python",
   "name": "python",
   "nbconvert_exporter": "python",
   "pygments_lexer": "ipython3",
   "version": "3.7.0"
  }
 },
 "nbformat": 4,
 "nbformat_minor": 2
}
