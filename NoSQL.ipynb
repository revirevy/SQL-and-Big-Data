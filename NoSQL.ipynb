{
 "cells": [
  {
   "cell_type": "markdown",
   "metadata": {},
   "source": [
    "### NoSQL\n",
    "\n",
    "- [Lesson](https://pages.github.umn.edu/deliu/bigdata19/20-NoSQL/outline.html)\n",
    "- [Self Assess 1](https://canvas.umn.edu/courses/139689/quizzes/205102?module_item_id=3094913)\n",
    "- [Self Assess 2](https://canvas.umn.edu/courses/139689/quizzes/207211?module_item_id=3123681)"
   ]
  },
  {
   "cell_type": "code",
   "execution_count": null,
   "metadata": {},
   "outputs": [],
   "source": []
  }
 ],
 "metadata": {
  "kernelspec": {
   "display_name": "Python 3",
   "language": "python",
   "name": "python3"
  },
  "language_info": {
   "codemirror_mode": {
    "name": "ipython",
    "version": 3
   },
   "file_extension": ".py",
   "mimetype": "text/x-python",
   "name": "python",
   "nbconvert_exporter": "python",
   "pygments_lexer": "ipython3",
   "version": "3.7.4"
  }
 },
 "nbformat": 4,
 "nbformat_minor": 2
}
