{
 "cells": [
  {
   "cell_type": "markdown",
   "metadata": {},
   "source": [
    "# Spark ML\n",
    "\n",
    "[Slides](https://pages.github.umn.edu/deliu/bigdata19/16-SparkML/Spark7-SparkMLLib.pdf)  \n",
    "[Full Lecture](https://pages.github.umn.edu/deliu/bigdata19/16-SparkML/outline.html)\n",
    "\n",
    "[Spark Lab 6 Feature Engineer](https://pages.github.umn.edu/deliu/bigdata19/16-SparkML/sparklab07-MLlib/Sparklab07-ML-Concrete-Car-Solution.html)  \n",
    "[Spark Lab 7 Grad Boost](https://pages.github.umn.edu/deliu/bigdata19/16-SparkML/sparklab08-MLlib2/Sparklab08-ML-bikeshare-solution.html)\n",
    "\n",
    "[Self Assess](https://canvas.umn.edu/courses/139689/assignments/825975/submissions/940428)"
   ]
  },
  {
   "cell_type": "markdown",
   "metadata": {},
   "source": [
    "---\n",
    "\n",
    "`Other ML Frameworks`\n",
    "- Sklearn - Single node, can run multiple models in parallel\n",
    "- H2O - open source, distributed\n",
    "- Mahout - java based\n",
    "- Turi (AAPL) - Graph based (cluster, topic model)\n",
    "- Vowpal (MSFT) - out-of-core ML\n",
    "\n",
    "---\n",
    "\n",
    "`MLlib` - general purpose, distributed\n",
    "- Fast\n",
    "- Simple (not much code)\n",
    "- Languages - scala, python, r, etc\n",
    "- Works well with storage systems\n",
    "- Unified - all in one place\n",
    "\n",
    "`Data Types` - vectors\n",
    "- Label\n",
    "- Feature column - vector of the observation\n",
    " - Dense - regular array\n",
    " - Sparse - only the non-zeros, has the index and the value\n",
    "   - less storage, faster"
   ]
  },
  {
   "cell_type": "markdown",
   "metadata": {},
   "source": [
    "---\n",
    "\n",
    "`Abstractions`\n",
    "- DataFrame: Dataset with feature vector\n",
    "- Transformer: (does not require training) Transforms df into another\n",
    "- Estimator: (requires training) Runs an algorithm on a data set to fit a model\n",
    "- Pipeline: Chains multiple steps to define a machine learning workflow\n",
    "\n",
    "[Feature Engineering API](https://spark.apache.org/docs/latest/ml-features.html)  \n"
   ]
  },
  {
   "cell_type": "code",
   "execution_count": null,
   "metadata": {},
   "outputs": [],
   "source": []
  }
 ],
 "metadata": {
  "kernelspec": {
   "display_name": "Python 3",
   "language": "python",
   "name": "python3"
  },
  "language_info": {
   "codemirror_mode": {
    "name": "ipython",
    "version": 3
   },
   "file_extension": ".py",
   "mimetype": "text/x-python",
   "name": "python",
   "nbconvert_exporter": "python",
   "pygments_lexer": "ipython3",
   "version": "3.6.7"
  }
 },
 "nbformat": 4,
 "nbformat_minor": 2
}
