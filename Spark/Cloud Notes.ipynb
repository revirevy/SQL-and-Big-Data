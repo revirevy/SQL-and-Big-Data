{
 "cells": [
  {
   "cell_type": "markdown",
   "metadata": {},
   "source": [
    "# Cloud & AWS\n",
    "\n",
    "- [In Class Lecture](https://mediasite.csom.umn.edu/Mediasite/Play/f6618694602349c8bc29f956a0785ecc1d?catalog=3a9b9a5defb0400a9333e5b2efcf5e1621&playFrom=2278&autoStart=true)\n",
    "- [Full Page](https://pages.github.umn.edu/deliu/bigdata19/06-AWS/outline.html)\n",
    "- [Slides](https://pages.github.umn.edu/deliu/bigdata19/06-AWS/CloudComputing.pdf)\n",
    "- [Lab 12 - EC2](https://pages.github.umn.edu/deliu/bigdata19/06-AWS/lab12-aws-ec2/lab12-aws-ec2.html)\n",
    "- [Lab 13 - EMR](https://pages.github.umn.edu/deliu/bigdata19/06-AWS/lab13-aws-emr/lab13-aws-emr.html)"
   ]
  },
  {
   "cell_type": "markdown",
   "metadata": {},
   "source": [
    "---\n",
    "\n",
    "**Cloud Computing** - gives access to networks/services without us needing to do heavy lifting  \n",
    "\n",
    "**Services**\n",
    "- Infrastructure - renting storage/processing power\n",
    "- Platform - build apps on top of the platform\n",
    "- Software"
   ]
  },
  {
   "cell_type": "markdown",
   "metadata": {},
   "source": [
    "---\n",
    "\n",
    "### Technology behind Cloud\n",
    "\n",
    "[Good Explanation](https://kubernetes.io/docs/concepts/overview/what-is-kubernetes/)\n",
    "\n",
    "- Virtualization - makes a computer appear to contain \"multiple\" computers (multiple operating systems)\n",
    " - Fewer servers required and more efficient, quick to get VM running\n",
    "- Containerization - each app gets its own \"computer\" (one operating system)\n",
    "- Kubernetes - each cluster of apps gets its own \"computer\" (one operating system)\n",
    "\n"
   ]
  },
  {
   "cell_type": "markdown",
   "metadata": {},
   "source": [
    "\n",
    "\n",
    "https://cloudit4you.wordpress.com/\n",
    "\n",
    "<img src=https://i.imgur.com/WHil6Ov.jpg width=\"500\" height=\"440\" align=\"left\">"
   ]
  },
  {
   "cell_type": "markdown",
   "metadata": {},
   "source": [
    "---\n",
    "\n",
    "## AWS\n",
    "\n",
    "[AWS Course](https://aws.amazon.com/training/course-descriptions/cloud-practitioner-essentials/)\n",
    "\n",
    "**Characteristics**\n",
    "- Autoscaling & elastic load balance\n",
    " - Able to scale up or scale down when needed\n",
    "- Deploy in multiple regions\n",
    "- Wide range of apps\n",
    "\n",
    "\n",
    "**Servers**\n",
    "- EC2 - Elastic Compute Cloud\n",
    " - Virtual servers\n",
    "\n",
    "\n",
    "\n",
    "**Storage**\n",
    "- S3 - Simple Storage Service\n",
    " - Where we store files, static content\n",
    " - Buckets have flat structure\n",
    " - Alternatives:\n",
    "   - EBS - Elastic Block Store - More expensive, faster and more scalable\n",
    "   - Glacier - Cheaper, intended for infrequent access\n",
    "\n",
    "\n",
    "- RDS - Relational Database Service\n",
    " - Autoscaling - includes MySQL, Oracle, etc\n",
    "- DynamoDB - NoSQL keystore db\n",
    " - Good for streaming storage\n",
    "\n",
    "\n",
    "**Management**\n",
    "- IAM - Identity and Access Mgmt\n",
    " - Permissions, ssh, etc\n",
    "- VPC - Virtual Private Cloud\n",
    " - All AWS services on one network\n",
    " \n",
    " \n",
    "**Big Data**\n",
    "- Kinesis - Store and analyze streaming data\n",
    "- Lambda - Set trigger when an event occurs\n",
    "- EMR - Elastic Mapreduce - Used for batch ETL, data mining\n",
    "- Amzn ML (blackbox) - Builds models with data from S3 or others\n",
    "- DynamoDB - NoSQL, good for streaming data\n",
    "- Redshift - data warehouse for huge data\n",
    "- Elasticsearch - full text search\n",
    "- Quicksight - visualization\n",
    "- EC2 - building big data apps"
   ]
  },
  {
   "cell_type": "code",
   "execution_count": null,
   "metadata": {},
   "outputs": [],
   "source": []
  }
 ],
 "metadata": {
  "kernelspec": {
   "display_name": "Pyspark (Py3)",
   "language": "",
   "name": "pyspark"
  },
  "language_info": {
   "codemirror_mode": {
    "name": "ipython",
    "version": 3
   },
   "file_extension": ".py",
   "mimetype": "text/x-python",
   "name": "python",
   "nbconvert_exporter": "python",
   "pygments_lexer": "ipython3",
   "version": "3.6.7"
  }
 },
 "nbformat": 4,
 "nbformat_minor": 2
}
