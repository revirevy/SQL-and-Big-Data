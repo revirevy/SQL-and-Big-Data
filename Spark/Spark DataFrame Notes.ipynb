{
 "cells": [
  {
   "cell_type": "markdown",
   "metadata": {},
   "source": [
    "# Spark and DataFrames\n",
    "\n",
    "[Slides](https://pages.github.umn.edu/deliu/bigdata19/14-SparkSQL/Spark5-SparkSQL.pdf)  \n",
    "[Full Lecture](https://pages.github.umn.edu/deliu/bigdata19/14-SparkSQL/outline.html)\n",
    "\n",
    "[Spark Lab 5 Using Spark SQL](https://pages.github.umn.edu/deliu/bigdata19/14-SparkSQL/sparklab05-SQL/)"
   ]
  },
  {
   "cell_type": "markdown",
   "metadata": {},
   "source": [
    "---\n",
    "\n",
    "Dataframe requires a schema, RDD does not  \n",
    "Dataframe is for structured/semi structured  \n",
    "RDD is for structured and unstructured"
   ]
  },
  {
   "cell_type": "markdown",
   "metadata": {},
   "source": [
    "---\n",
    "\n",
    "`Spark SQL`  \n",
    "Better than using RDD to handle complex manipulation, prep for ML\n",
    "- Built on top of core Spark\n",
    "- Provides dataframe API\n",
    "- Uses Catalyst Optimizer\n",
    "\n",
    "\n",
    "Entry point = SparkSession (created in Spark Shell)\n",
    "- Can write queries in Hive and use Hive UDF's without needing Hive\n",
    "- Able to turn RDD into dataframe"
   ]
  },
  {
   "cell_type": "markdown",
   "metadata": {},
   "source": [
    "---\n",
    "\n",
    "`Dataframe`\n",
    "- Dataframe takes tuples from RDD and gives them own cells\n",
    "- Create using schema with correct format\n",
    "- Immutable\n",
    "\n",
    "`Created from..`\n",
    "- Existing data source\n",
    "- RDD\n",
    "- Another dataframe\n",
    "\n",
    "`Data sources`\n",
    "- Text files\n",
    "- Binary (Parquet, ORC)\n",
    "- Tables (Hive)\n",
    "- Custom\n",
    "\n",
    "`HDFS: (what we use)` hdfs://localhost/loadacre/myfile.json  \n",
    "`Local:` file://home/cloudera/myfile.json"
   ]
  },
  {
   "cell_type": "code",
   "execution_count": null,
   "metadata": {},
   "outputs": [],
   "source": []
  }
 ],
 "metadata": {
  "kernelspec": {
   "display_name": "Python 3",
   "language": "python",
   "name": "python3"
  },
  "language_info": {
   "codemirror_mode": {
    "name": "ipython",
    "version": 3
   },
   "file_extension": ".py",
   "mimetype": "text/x-python",
   "name": "python",
   "nbconvert_exporter": "python",
   "pygments_lexer": "ipython3",
   "version": "3.6.7"
  }
 },
 "nbformat": 4,
 "nbformat_minor": 2
}
