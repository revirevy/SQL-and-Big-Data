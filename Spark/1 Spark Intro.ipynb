{
 "cells": [
  {
   "cell_type": "markdown",
   "metadata": {},
   "source": [
    "# Spark\n",
    "\n",
    "\n",
    "[Slides](file:///C:/Users/Sam/Desktop/Big%20Data/Spark/Intro%20and%20Benefits.pdf) \n",
    "\n",
    "\n",
    "Fast, general purpose engine  \n",
    "Extends mapreduce - works with ML  \n",
    "Able to handle streaming data well  \n",
    "Runs computations in memory (whereas hadoop is in disk)\n",
    "\n",
    "**Benefits of both Spark and Hadoop**  \n",
    "Linear scalable, fault tolerance, data locality base computations\n",
    "\n",
    "**Why Spark over Hadoop?**  \n",
    "1. `Faster` (doesn't have to read/write between disks) [Slides](file:///C:/Users/Sam/Desktop/Big%20Data/Spark/Speed.pdf)  \n",
    "Results stay in memory, only has to read/write to hard disk once (requires larger memory though)  \n",
    "2. `Easier` to develop  \n",
    "Not limited to just map and reduce  \n",
    "3. `Flexible` deployment  \n",
    "Works with hdfs, hbase, hive, s3\n",
    "4. `Unified` stack  \n",
    "Able to combine tools in one platform  \n",
    "5. `Multilanguage` support  \n",
    "Python, SparkR, Scala\n",
    "\n",
    "**Spark drawbacks**  \n",
    "1. Resource intensive\n",
    "2. Less mature (not so much anymore)"
   ]
  },
  {
   "cell_type": "markdown",
   "metadata": {},
   "source": [
    "---\n",
    "\n",
    "### Spark Programming Model\n",
    "\n",
    "[Slides](file:///C:/Users/Sam/Desktop/Big%20Data/Spark/Programming%20Model.pdf) \n",
    "\n",
    "**RDD = resilient distributed dataset**  \n",
    "Collection of objects that are distributed accross nodes in cluster  \n",
    "Immutable once created  \n",
    "Resilient - if Spark loses data in memory, it recreates the RDD and re-reads the data\n",
    "\n",
    "Once we load a file, will be distributed and loaded as a cluster  \n",
    "\n",
    "View **transformation operations** and the **map + reduce** example in the attached pdf\n"
   ]
  },
  {
   "cell_type": "markdown",
   "metadata": {},
   "source": [
    "---\n",
    "\n",
    "### Architecture and Int with Hadoop\n",
    "\n",
    "[Slides](file:///C:/Users/Sam/Desktop/Big%20Data/Spark/Int%20Hadoop.pdf) \n",
    "\n",
    "We still need Hadoop for storage, even if we are only wanting to work with Spark\n",
    "\n",
    "<img src=https://i.imgur.com/LwinGqp.png width=\"350\" height=\"270\" align=\"left\">\n",
    "<img src=https://i.imgur.com/w7bve7C.png width=\"350\" height=\"270\" align=\"left\">\n",
    "\n"
   ]
  },
  {
   "cell_type": "code",
   "execution_count": null,
   "metadata": {},
   "outputs": [],
   "source": []
  }
 ],
 "metadata": {
  "kernelspec": {
   "display_name": "Python 3",
   "language": "python",
   "name": "python3"
  },
  "language_info": {
   "codemirror_mode": {
    "name": "ipython",
    "version": 3
   },
   "file_extension": ".py",
   "mimetype": "text/x-python",
   "name": "python",
   "nbconvert_exporter": "python",
   "pygments_lexer": "ipython3",
   "version": "3.7.4"
  }
 },
 "nbformat": 4,
 "nbformat_minor": 2
}
