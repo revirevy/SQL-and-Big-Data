{
 "cells": [
  {
   "cell_type": "markdown",
   "metadata": {},
   "source": [
    "**[Lab 1](https://pages.github.umn.edu/deliu/bigdata19/10-SparkIntro/sparklab01/sparklab01-solution.html)**\n",
    "\n",
    "**[Lab 2 - RDD](https://pages.github.umn.edu/deliu/bigdata19/10-SparkIntro/sparklab02-RDD-transform/sparklab2-solution.html)**\n",
    "\n",
    "**[Lab 3 - Processing](https://pages.github.umn.edu/deliu/bigdata19/10-SparkIntro/sparklab03-RDD-ProcessFiles/sparklab3-solution.html)**\n",
    "\n",
    "**[Lab 4 - Pairs](https://pages.github.umn.edu/deliu/bigdata19/13-PairRDD/sparklab04-PairRDD-Join/SparkLab4-Solution.html)**"
   ]
  },
  {
   "cell_type": "code",
   "execution_count": null,
   "metadata": {},
   "outputs": [],
   "source": [
    "! wget http://idsdl.csom.umn.edu/c/share/sparkdata.zip\n",
    "! unzip sparkdata.zip\n",
    "\n",
    "!cd training_materials/data/weblogs\n",
    "!ls\n",
    "!cat * | head\n",
    "!head -2 loudacre/webpage.json    # devices\n",
    "!head $DEV1DATA/devicestatus.txt\n",
    "\n",
    "\n",
    "# Save to HDFS\n",
    "ips.saveAsTextFile(\"iplist\")\n",
    "!ls iplist"
   ]
  },
  {
   "cell_type": "code",
   "execution_count": null,
   "metadata": {},
   "outputs": [],
   "source": [
    "# Read in\n",
    "logfile=\"training_materials/data/weblogs\"\n",
    "logfile='file:/home/cloudera/training_materials/data/devicestatus.txt'\n",
    "logs = sc.textFile(logfile).cache()\n",
    "\n",
    "\n",
    "logs.count()        # Count lines\n",
    "logs.collect()      # View whole dataset\n",
    "logs.take(5)\n",
    "\n",
    "\n",
    "# Determine delimiter\n",
    "mydata.map(lambda line:line[19]).distinct().collect()\n",
    "\n",
    "\n",
    "# Filter rows\n",
    "parsed  = mydata.map(lambda line:line.split(line[19]))\n",
    "filtered = parsed.filter(lambda record:len(record)==14)\n",
    "\n",
    "\n",
    "# Get fields\n",
    "selectedFields = filtered.map(lambda r:(r[0],r[1],r[2],r[12],r[13]))\n",
    "for row in selectedFields.take(3):\n",
    "    print(\"{}, {}, {}, {}, {}\".format(*row))\n",
    "\n",
    "\n",
    "# Split a field up\n",
    "splitted = selectedFields.map(lambda r:(r[1].split(' ')[0],\n",
    "                                 r[1].split(' ')[1]))"
   ]
  },
  {
   "cell_type": "code",
   "execution_count": null,
   "metadata": {},
   "outputs": [],
   "source": [
    "# Count lines with jpg\n",
    "sc.textFile(logfile) \\\n",
    "    .filter(lambda line:\".jpg\" in line) \\\n",
    "    .count()\n",
    "\n",
    "\n",
    "# Define new rdd - array of words per line\n",
    "words = logs.map(lambda line:line.split()).take(5)\n",
    "for word in words.take(5):\n",
    "    print(word)\n",
    "\n",
    "\n",
    "# First word per line\n",
    "logs.map(lambda line: line.split()[0]).take(5)\n",
    "\n",
    "\n",
    "# Words per user\n",
    "userCount = logs.map(lambda row:(row[1], 1))\n",
    "    .reduceByKey(lambda a,b:a+b)\n",
    "type(userCount)\n",
    "\n",
    "\n",
    "# Histogram\n",
    "freqCount = userCount.map(lambda (user,cnt):(cnt,user)) # reverse order\n",
    "    .countByKey()                                       # counts per person\n",
    "\n",
    "    \n",
    "# Value_counts\n",
    "for item in freqCount.items():\n",
    "    print(\"{}:{}\".format(*item))\n",
    "    \n",
    "    \n",
    "# Count users per html\n",
    "ipusers = logs.filter(lambda line:\".html\" in line). \\\n",
    "    map(lambda line: (line.split()[0], line.split()[2]))\n",
    "\n",
    "\n",
    "# List of addresses per user\n",
    "userIpList = logs.map(lambda row:(row[1],row[0])) \\\n",
    "    .groupByKey() \\\n",
    "    .mapValues(list)\n",
    "\n",
    "for item in userIpList.take(5):\n",
    "    print(\"{}\\t{}\".format(item[0],item[1]))"
   ]
  },
  {
   "cell_type": "code",
   "execution_count": null,
   "metadata": {},
   "outputs": [],
   "source": []
  }
 ],
 "metadata": {
  "kernelspec": {
   "display_name": "Python 3",
   "language": "python",
   "name": "python3"
  },
  "language_info": {
   "codemirror_mode": {
    "name": "ipython",
    "version": 3
   },
   "file_extension": ".py",
   "mimetype": "text/x-python",
   "name": "python",
   "nbconvert_exporter": "python",
   "pygments_lexer": "ipython3",
   "version": "3.7.4"
  }
 },
 "nbformat": 4,
 "nbformat_minor": 2
}
